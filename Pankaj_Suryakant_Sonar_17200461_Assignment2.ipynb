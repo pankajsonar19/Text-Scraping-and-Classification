{
 "cells": [
  {
   "cell_type": "markdown",
   "metadata": {},
   "source": [
    "<font color=#BD2505><h1 style=text-align:center>COMP41680- Data Science in Python</h1>\n",
    "\n",
    "<font color=Maroon><h2 style=text-align:center> Assignment 2 </h2>\n",
    "\n",
    "<font color=#340B87><h2 style=text-align:center>Student ID: 17200461</h2></font>"
   ]
  },
  {
   "cell_type": "markdown",
   "metadata": {},
   "source": [
    "## Import Packages "
   ]
  },
  {
   "cell_type": "code",
   "execution_count": 1,
   "metadata": {
    "collapsed": true
   },
   "outputs": [],
   "source": [
    "# Import necessary packages\n",
    "import urllib\n",
    "from urllib.request import urlopen\n",
    "from bs4 import BeautifulSoup\n",
    "import bs4\n",
    "\n",
    "import pandas as pd\n",
    "import numpy as np\n",
    "\n",
    "from sklearn import tree\n",
    "from sklearn.tree import export_graphviz\n",
    "from sklearn import tree\n",
    "from sklearn import metrics\n",
    "from sklearn import tree\n",
    "from sklearn import svm\n",
    "from sklearn import ensemble\n",
    "from sklearn import linear_model\n",
    "from sklearn import neighbors\n",
    "from sklearn import neural_network\n",
    "from sklearn import naive_bayes\n",
    "\n",
    "from sklearn.metrics import cohen_kappa_score\n",
    "from sklearn.metrics.pairwise import cosine_similarity\n",
    "\n",
    "\n",
    "from sklearn.model_selection import GridSearchCV\n",
    "from sklearn.model_selection import cross_val_score\n",
    "from sklearn.model_selection import train_test_split\n",
    "from sklearn.model_selection import KFold\n",
    "from sklearn.model_selection import cross_val_score\n",
    "from sklearn.utils.validation import check_X_y, check_array, check_is_fitted\n",
    "\n",
    "from sklearn.feature_extraction.text import CountVectorizer\n",
    "from sklearn.feature_extraction import text\n",
    "from sklearn.feature_extraction.text import TfidfVectorizer\n",
    "\n",
    "\n",
    "import operator\n",
    "import nltk\n",
    "from nltk.stem.porter import PorterStemmer\n",
    "from nltk.stem.wordnet import WordNetLemmatizer\n",
    "\n",
    "import warnings\n",
    "warnings.filterwarnings(\"ignore\", category=DeprecationWarning)\n",
    "\n",
    "import matplotlib\n",
    "import matplotlib.pyplot as plt\n",
    "# Important! Need to tell IPython to display plots within the notebook\n",
    "%matplotlib inline\n"
   ]
  },
  {
   "cell_type": "markdown",
   "metadata": {},
   "source": [
    "# <font color=maroon> Part 1 : Data Collection </font>\n",
    "\n",
    "**I have scraped the data in two parts. **\n",
    "* **The first part will generate the list of all the monthly news article links. **\n",
    "* **The second part will scrap the content present in each monthly link.**\n"
   ]
  },
  {
   "cell_type": "code",
   "execution_count": 2,
   "metadata": {
    "collapsed": true
   },
   "outputs": [],
   "source": [
    "#I have created three functions. \n",
    "    # The first function will request these links to open and parse the html content using BeautifulSoup.\n",
    "    # The second function will open the files in write mode.\n",
    "    # The third function will open the files in append mode.\n",
    "\n",
    "\n",
    "# To open the link\n",
    "def open_link(baseurl,newurl):\n",
    "    rawtext = urllib.request.urlopen(baseurl+newurl)\n",
    "    soup = bs4.BeautifulSoup(rawtext,'html.parser')\n",
    "    return soup\n",
    "\n",
    "# To open the file in 'w' mode\n",
    "def create_raw_file(category_file,article_file):\n",
    "    \n",
    "    # open category file\n",
    "    with open(category_file, 'w', encoding='utf-8') as raw_category_file:\n",
    "        raw_category_file.close()\n",
    "    \n",
    "    # open article file\n",
    "    with open(article_file, 'w', encoding=\"utf-8\") as raw_article_file:\n",
    "        raw_article_file.close()\n",
    "    \n",
    "# To open the file in 'a' mode\n",
    "def create_file(category_file,article_file,category,article_text):\n",
    "    #category file include news-categories\n",
    "    with open(category_file,'a', encoding='utf-8') as file:\n",
    "        file.write(category + '\\n')\n",
    "    file.close()\n",
    "    \n",
    "    #article file include news-articles\n",
    "    with open(article_file,'a', encoding='utf-8') as file:\n",
    "        file.write(article_text + '\\n')\n",
    "    file.close()"
   ]
  },
  {
   "cell_type": "code",
   "execution_count": 3,
   "metadata": {
    "collapsed": true
   },
   "outputs": [],
   "source": [
    "# This is the base url which will be appended with new urls got during web scraping.\n",
    "\n",
    "baseurl='http://mlg.ucd.ie/modules/COMP41680/archive/'"
   ]
  },
  {
   "cell_type": "code",
   "execution_count": 4,
   "metadata": {
    "scrolled": true
   },
   "outputs": [
    {
     "name": "stdout",
     "output_type": "stream",
     "text": [
      "['month-jan-2017.html', 'month-feb-2017.html', 'month-mar-2017.html', 'month-apr-2017.html', 'month-may-2017.html', 'month-jun-2017.html', 'month-jul-2017.html', 'month-aug-2017.html', 'month-sep-2017.html', 'month-oct-2017.html', 'month-nov-2017.html', 'month-dec-2017.html']\n"
     ]
    }
   ],
   "source": [
    "# The first part of scraping to get the monthly news articles link\n",
    "\n",
    "index_page=open_link(baseurl,'index.html')\n",
    "monthly_data=index_page.find('div', attrs={'class':'main'}).find_all('li')\n",
    "monthly_url=[]\n",
    "for data in monthly_data:\n",
    "    monthly_url.append(data.find('a').attrs['href'])\n",
    "print(monthly_url)"
   ]
  },
  {
   "cell_type": "code",
   "execution_count": 5,
   "metadata": {
    "scrolled": true
   },
   "outputs": [
    {
     "name": "stdout",
     "output_type": "stream",
     "text": [
      "******************************\n",
      "Done with Web Scraping\n",
      "******************************\n"
     ]
    }
   ],
   "source": [
    "\n",
    "# The second part will scrap the inner content of each months which include categories and article links\n",
    "# Then open the article links and get the article contents\n",
    "\n",
    "category_elements=''\n",
    "category_file='news_categories.txt'\n",
    "article_file='news_articles.txt'\n",
    "create_raw_file(category_file,article_file)\n",
    "\n",
    "# first loop will iterate over each month and find the <tr> tags\n",
    "for url in monthly_url:\n",
    "    monthly_stories=open_link(baseurl,url) # open the monthly links\n",
    "    contents=monthly_stories.find('div', attrs={'class':'main'}).find_all('tr') # find all values in <tr> tag\n",
    "    \n",
    "    # second for loop will go row by row and will get the category using category-class and respective article link using title-class\n",
    "    for row_data in contents[1:]:\n",
    "        get_categories=row_data.find('td', attrs={'class':'category'}) # the categories are in class= category\n",
    "        get_article_urls = row_data.find('td', class_='title')  # the article links are in class= title\n",
    "        \n",
    "        if((get_categories.text != 'N/A') and (get_article_urls.find('a') != None)): # to check if 'N/A' or None value exists\n",
    "            category_elements=get_categories.text.strip() # use strip to remove the spaces\n",
    "            article_urls = get_article_urls.find('a').attrs['href'] # find the article urls\n",
    "            articles = ''\n",
    "            get_article_contents= open_link(baseurl,article_urls) # call to open_link function declared above\n",
    "            articles += get_article_contents.find('div', attrs={'class':'main'}).find('h2').text + ' ' # Get Title of news. Here I am adding a space at the end so that there will be separation between header and the paragrah\n",
    "            article_text=get_article_contents.find('div', attrs={'class':'main'}).find_all('p') # find all <p> tags\n",
    "            # third loop to get the news-text\n",
    "            for mytext in article_text[:-1]: # using -1 because the last <p> content is not relevant to scraping requirement.\n",
    "                articles += mytext.text # add the content one by one in article list generated above\n",
    "            create_file(category_file,article_file,category_elements,articles) # call the create_file function by passing file names and category_elements and article_text\n",
    "\n",
    "print('******************************')\n",
    "print('Done with Web Scraping')\n",
    "print('******************************')"
   ]
  },
  {
   "cell_type": "markdown",
   "metadata": {},
   "source": [
    "# <font color=maroon> Part 2 : Text Classification </font>\n",
    "<br>\n",
    "<font><b> Task 1: From the files created in Part 1, I have load the set of raw documents. I am creating a DataFrame to ensure if the class labels i.e. Categories and the Data i.e. news-content properly matches with each other <br><br>\n",
    "\n",
    "Task 2: From the raw documents, I am creating a document-term matrix, using appropriate text pre-processing and term weighting steps. <br><br>\n",
    "\n",
    "Task 3: I am using two multi-class classification models as Decision Tree and Naive Bayes.<br><br>\n",
    "\n",
    "Task 4: I am comparing the predictions of the two classification models using One-way holdout and Cross-Validation evaluation strategy. Lastly, I am visualizing the mean accuracy scores got from Cross-Validation results on bar graph plot.</b> </font>"
   ]
  },
  {
   "cell_type": "markdown",
   "metadata": {},
   "source": [
    "## <font color=#340B87>Task 1 : Loading the Raw_documents</font>\n",
    "\n",
    "I am loading the two files 1. news_categories.txt and 2. news_articles.txt which contains the categories and content of the news articles respectively."
   ]
  },
  {
   "cell_type": "code",
   "execution_count": 6,
   "metadata": {
    "collapsed": true
   },
   "outputs": [],
   "source": [
    "# read the news-categories file which contains categories i.e. class labels of the articles\n",
    "f_category = open('news_categories.txt','r', encoding='utf-8')\n",
    "news_labels = f_category.read().splitlines()\n",
    "f_category.close()\n",
    "\n",
    "#read the news-articles file which contains the text of the articles\n",
    "f_article = open('news_articles.txt','r', encoding='utf-8')\n",
    "news_content = f_article.read().splitlines()\n",
    "f_article.close()"
   ]
  },
  {
   "cell_type": "markdown",
   "metadata": {},
   "source": [
    "### Representing data using Data Frame"
   ]
  },
  {
   "cell_type": "code",
   "execution_count": 7,
   "metadata": {},
   "outputs": [
    {
     "data": {
      "text/html": [
       "<div>\n",
       "<style>\n",
       "    .dataframe thead tr:only-child th {\n",
       "        text-align: right;\n",
       "    }\n",
       "\n",
       "    .dataframe thead th {\n",
       "        text-align: left;\n",
       "    }\n",
       "\n",
       "    .dataframe tbody tr th {\n",
       "        vertical-align: top;\n",
       "    }\n",
       "</style>\n",
       "<table border=\"1\" class=\"dataframe\">\n",
       "  <thead>\n",
       "    <tr style=\"text-align: right;\">\n",
       "      <th></th>\n",
       "      <th>Article Content</th>\n",
       "    </tr>\n",
       "    <tr>\n",
       "      <th>News_Categories</th>\n",
       "      <th></th>\n",
       "    </tr>\n",
       "  </thead>\n",
       "  <tbody>\n",
       "    <tr>\n",
       "      <th>technology</th>\n",
       "      <td>21st-Century Sports: How Digital Technology Is...</td>\n",
       "    </tr>\n",
       "    <tr>\n",
       "      <th>business</th>\n",
       "      <td>Asian quake hits European shares Asian quake h...</td>\n",
       "    </tr>\n",
       "    <tr>\n",
       "      <th>technology</th>\n",
       "      <td>BT offers free net phone calls BT is offering ...</td>\n",
       "    </tr>\n",
       "    <tr>\n",
       "      <th>business</th>\n",
       "      <td>Barclays shares up on merger talk Barclays sha...</td>\n",
       "    </tr>\n",
       "    <tr>\n",
       "      <th>sport</th>\n",
       "      <td>Barkley fit for match in Ireland England centr...</td>\n",
       "    </tr>\n",
       "    <tr>\n",
       "      <th>sport</th>\n",
       "      <td>Bellamy under new fire Bellamy under new fireN...</td>\n",
       "    </tr>\n",
       "    <tr>\n",
       "      <th>sport</th>\n",
       "      <td>Benitez 'to launch Morientes bid' Benitez 'to ...</td>\n",
       "    </tr>\n",
       "    <tr>\n",
       "      <th>sport</th>\n",
       "      <td>Benitez delight after crucial win Liverpool ma...</td>\n",
       "    </tr>\n",
       "    <tr>\n",
       "      <th>technology</th>\n",
       "      <td>Big war games battle it out The arrival of new...</td>\n",
       "    </tr>\n",
       "    <tr>\n",
       "      <th>technology</th>\n",
       "      <td>British Library gets wireless net Visitors to ...</td>\n",
       "    </tr>\n",
       "  </tbody>\n",
       "</table>\n",
       "</div>"
      ],
      "text/plain": [
       "                                                   Article Content\n",
       "News_Categories                                                   \n",
       "technology       21st-Century Sports: How Digital Technology Is...\n",
       "business         Asian quake hits European shares Asian quake h...\n",
       "technology       BT offers free net phone calls BT is offering ...\n",
       "business         Barclays shares up on merger talk Barclays sha...\n",
       "sport            Barkley fit for match in Ireland England centr...\n",
       "sport            Bellamy under new fire Bellamy under new fireN...\n",
       "sport            Benitez 'to launch Morientes bid' Benitez 'to ...\n",
       "sport            Benitez delight after crucial win Liverpool ma...\n",
       "technology       Big war games battle it out The arrival of new...\n",
       "technology       British Library gets wireless net Visitors to ..."
      ]
     },
     "execution_count": 7,
     "metadata": {},
     "output_type": "execute_result"
    }
   ],
   "source": [
    "# create a DataFrame to check the mapping of categories with respective article contents\n",
    "\n",
    "df=pd.DataFrame(news_content,news_labels)\n",
    "df.index.name='News_Categories'\n",
    "df.columns=['Article Content']\n",
    "df.head(10)\n"
   ]
  },
  {
   "cell_type": "markdown",
   "metadata": {},
   "source": [
    "## <font color=#340B87>Task 2 : Creating Document-Term Matrix</font>\n",
    "<br>\n",
    "<font><b> I am using different vectorizer models under Bag-of-words model approach using Scikit learn packages.</b><br><br>\n",
    "\n",
    "<b>1. Normal Vectorizer:</b> In this, normal CountVectorizer() function is called without passing any arguments. <br><br>\n",
    "<b>2. N-Gram Vectorizer:</b> In this, CountVectorizer() is passed with n-gram argument where n=2 i.e. bi-grams. <br><br>\n",
    "<b>3. Vectorizer with Pre-Processing Text:</b> In this, the CountVectorizer() is passed with different pre-processing steps like StopWord removal (which will remove stop words like and,the, that etc), Low-frequency filtering (it will remove the words that appear in very few documents having frequency lower than specified)  and Lemmatizing (it uses the existing word vocabulary and does morphological analysis). I am not using Stemming here because Stemming does not return meaningful terms and hence it may affect the accuracy. <br><br>\n",
    "<b>4. Tf-Idf Vectorizer:</b> In order to improve the usefulness of the Document-Term Matrix, it is necessary to assign weights to the terms that are more important. Therefore, I will be passing the same pre-processing parameters used in above CountVectorizer with pre-processing text.</font>"
   ]
  },
  {
   "cell_type": "markdown",
   "metadata": {},
   "source": [
    "### Normal Vectorizer\n",
    "\n",
    "Using CountVectorizer without passing any pre-processing arguments i.e. creating matrix directly on raw data"
   ]
  },
  {
   "cell_type": "code",
   "execution_count": 8,
   "metadata": {
    "scrolled": true
   },
   "outputs": [
    {
     "name": "stdout",
     "output_type": "stream",
     "text": [
      "(1408, 23648)\n",
      "Vocabulary has 23648 distinct terms\n",
      "7345\n"
     ]
    }
   ],
   "source": [
    "# Using Bag-of-words model approach\n",
    "# normal vectorizer\n",
    "\n",
    "norm_vectorizer = CountVectorizer()\n",
    "X_normal = norm_vectorizer.fit_transform(news_content)\n",
    "print(X_normal.shape)\n",
    "\n",
    "terms = norm_vectorizer.get_feature_names()\n",
    "vocab = norm_vectorizer.vocabulary_\n",
    "print(\"Vocabulary has %d distinct terms\" % len(terms))\n",
    "print(vocab['earthquake'])"
   ]
  },
  {
   "cell_type": "markdown",
   "metadata": {},
   "source": [
    "### N-gram Vectorizer\n",
    "\n",
    "The vocabulary size increases as bi-grams are considered. Therefore the size of vocabulary is increased and hence the sparcity in the matrix also increases. So using only n-gram in vectorizer wont be a good choice."
   ]
  },
  {
   "cell_type": "code",
   "execution_count": 9,
   "metadata": {},
   "outputs": [
    {
     "name": "stdout",
     "output_type": "stream",
     "text": [
      "(1408, 254999)\n",
      "Vocabulary has 254999 distinct terms\n"
     ]
    }
   ],
   "source": [
    "# n-gram vectorizer\n",
    "\n",
    "n_gram_vectorizer = CountVectorizer(ngram_range = (1,2)) # extracting single token and bigrams\n",
    "X_n_gram = n_gram_vectorizer.fit_transform(news_content)\n",
    "print(X_n_gram.shape)\n",
    "\n",
    "terms = n_gram_vectorizer.get_feature_names()\n",
    "\n",
    "print(\"Vocabulary has %d distinct terms\" % len(terms))"
   ]
  },
  {
   "cell_type": "markdown",
   "metadata": {},
   "source": [
    "### Vectorizer with Pre-Processing Text\n",
    "\n",
    "Pre-Processing includes removing the stop words (sklearn contains list of default stop words), removing words with low frequency that appears in very few documents, and perform lemmatization to do morphological analysis. Hence, the problem of sparcity in the matrix dicussed above can be reduced by these pre-processing parameters."
   ]
  },
  {
   "cell_type": "code",
   "execution_count": 10,
   "metadata": {
    "collapsed": true
   },
   "outputs": [],
   "source": [
    "# Using Lemma tokenizer\n",
    "\n",
    "# define the function\n",
    "def lemmatize_tokenizer(text):\n",
    "    # use the standard scikit-learn tokenizer first\n",
    "    standard_tokenizer = CountVectorizer().build_tokenizer()\n",
    "    tokens_list = standard_tokenizer(text)\n",
    "    # then use NLTK to perform lemmatisation on each token\n",
    "    nltk_lemmatizer = nltk.stem.WordNetLemmatizer()\n",
    "    lemmatize_tokens = []\n",
    "    for token in tokens_list:\n",
    "        lemmatize_tokens.append( nltk_lemmatizer.lemmatize(token) )\n",
    "    return lemmatize_tokens"
   ]
  },
  {
   "cell_type": "code",
   "execution_count": 11,
   "metadata": {},
   "outputs": [
    {
     "name": "stdout",
     "output_type": "stream",
     "text": [
      "(1408, 6098)\n"
     ]
    }
   ],
   "source": [
    "# using pre-processing parameters like stopwords removal, low frequency filtering and lemmatization respectively\n",
    "\n",
    "lemma_vectorizer = CountVectorizer(stop_words=\"english\",min_df = 5,tokenizer=lemmatize_tokenizer)\n",
    "X_lemma = lemma_vectorizer.fit_transform(news_content)\n",
    "print(X_lemma.shape)"
   ]
  },
  {
   "cell_type": "markdown",
   "metadata": {},
   "source": [
    "### Term Weighting using Tfidf Vectorizer\n",
    "\n",
    "Here I am using Tfidf vectorizer instead of CountVectorizer. The arguments considered are same i.e. the pre-processing parameters are same viz. stopwords removal, low frequency filtering and lemmatization."
   ]
  },
  {
   "cell_type": "code",
   "execution_count": 12,
   "metadata": {
    "scrolled": false
   },
   "outputs": [
    {
     "name": "stdout",
     "output_type": "stream",
     "text": [
      "(1408, 6098)\n"
     ]
    },
    {
     "name": "stderr",
     "output_type": "stream",
     "text": [
      "C:\\Users\\pnkjs\\Anaconda3\\lib\\site-packages\\sklearn\\feature_extraction\\text.py:1089: FutureWarning: Conversion of the second argument of issubdtype from `float` to `np.floating` is deprecated. In future, it will be treated as `np.float64 == np.dtype(float).type`.\n",
      "  if hasattr(X, 'dtype') and np.issubdtype(X.dtype, np.float):\n"
     ]
    }
   ],
   "source": [
    "# pass the same preprocessing parameters which were passed in above cell\n",
    "tfidf_vectorizer = TfidfVectorizer(stop_words=\"english\",min_df = 5, tokenizer=lemmatize_tokenizer)\n",
    "X_tfidf = tfidf_vectorizer.fit_transform(news_content)\n",
    "print(X_tfidf.shape)"
   ]
  },
  {
   "cell_type": "markdown",
   "metadata": {},
   "source": [
    "### Measuring Similarity\n",
    "\n",
    "Similarity between different documents can be found using Cosine Similarity measure. I am taking the example of similarity for first document with rest of the documents in the file. I am trying this on the different vectorizer models I used above."
   ]
  },
  {
   "cell_type": "code",
   "execution_count": 13,
   "metadata": {},
   "outputs": [
    {
     "name": "stdout",
     "output_type": "stream",
     "text": [
      "Most similar document was row 627: cosine similarity = 0.713\n",
      "business\n",
      "Giant waves damage S Asia economy Governments, aid agencies, insurers and travel firms are among those counting the cost of the massive earthquake and waves that hammered southern Asia.The worst-hit areas are Sri Lanka, India, Indonesia and Thailand, with at least 23,000 people killed. Early estimat\n"
     ]
    }
   ],
   "source": [
    "# To measure the cosine similarity between the first document and rest others for normal_vectorizer\n",
    "max_cosine = 0\n",
    "similar_row = 0\n",
    "for row in range(1,X_normal.shape[0]):\n",
    "    cos_result = cosine_similarity( X_normal[0], X_normal[row] )\n",
    "    # best so far?\n",
    "    if cos_result > max_cosine:\n",
    "        max_cosine = cos_result\n",
    "        similar_row = row\n",
    "print(\"Most similar document was row %d: cosine similarity = %.3f\" % ( similar_row, max_cosine ) )\n",
    "\n",
    "print(news_labels[similar_row])\n",
    "print(news_content[similar_row][0:300])"
   ]
  },
  {
   "cell_type": "code",
   "execution_count": 14,
   "metadata": {},
   "outputs": [
    {
     "name": "stdout",
     "output_type": "stream",
     "text": [
      "Most similar document was row 627: cosine similarity = 0.594\n",
      "business\n",
      "Giant waves damage S Asia economy Governments, aid agencies, insurers and travel firms are among those counting the cost of the massive earthquake and waves that hammered southern Asia.The worst-hit areas are Sri Lanka, India, Indonesia and Thailand, with at least 23,000 people killed. Early estimat\n"
     ]
    }
   ],
   "source": [
    "# To measure the cosine similarity between the first document and rest others for n-gram vectorizer\n",
    "max_cosine = 0\n",
    "similar_row = 0\n",
    "for row in range(1,X_n_gram.shape[0]):\n",
    "    cos_result = cosine_similarity( X_n_gram[0], X_n_gram[row] )\n",
    "    # best so far?\n",
    "    if cos_result > max_cosine:\n",
    "        max_cosine = cos_result\n",
    "        similar_row = row\n",
    "print(\"Most similar document was row %d: cosine similarity = %.3f\" % ( similar_row, max_cosine ) )\n",
    "\n",
    "print(news_labels[similar_row])\n",
    "print(news_content[similar_row][0:300])"
   ]
  },
  {
   "cell_type": "code",
   "execution_count": 15,
   "metadata": {
    "scrolled": true
   },
   "outputs": [
    {
     "name": "stdout",
     "output_type": "stream",
     "text": [
      "Most similar document was row 801: cosine similarity = 0.305\n",
      "technology\n",
      "Technology gets the creative bug Technology gets the creative bugThe hi-tech and the arts worlds have for some time danced around each other and offered creative and technical help when required.Often this help has come in the form of corporate art sponsorship or infrastructure provision. But that d\n"
     ]
    }
   ],
   "source": [
    "# To measure the cosine similarity between the first document and rest others for lemma-vectorizer\n",
    "max_cosine = 0\n",
    "similar_row = 0\n",
    "for row in range(1,X_lemma.shape[0]):\n",
    "    cos_result = cosine_similarity( X_lemma[0], X_lemma[row] )\n",
    "    # best so far?\n",
    "    if cos_result > max_cosine:\n",
    "        max_cosine = cos_result\n",
    "        similar_row = row\n",
    "print(\"Most similar document was row %d: cosine similarity = %.3f\" % ( similar_row, max_cosine ) )\n",
    "\n",
    "print(news_labels[similar_row])\n",
    "print(news_content[similar_row][0:300])"
   ]
  },
  {
   "cell_type": "code",
   "execution_count": 16,
   "metadata": {},
   "outputs": [
    {
     "name": "stdout",
     "output_type": "stream",
     "text": [
      "Most similar document was row 1027: cosine similarity = 0.189\n",
      "technology\n",
      "Sporting rivals go to extra time The current slew of sports games offers unparalleled opportunities for fans who like to emulate on-field action without ever moving from the couch.The two giants in the field - ESPN and EA Sports - have been locked in a heavyweight battle for years. The latter is the\n"
     ]
    }
   ],
   "source": [
    "# To measure the cosine similarity between the first document and rest others for tfidf vectorizer\n",
    "max_cosine = 0\n",
    "similar_row = 0\n",
    "for row in range(1,X_tfidf.shape[0]):\n",
    "    cos_result = cosine_similarity( X_tfidf[0], X_tfidf[row] )\n",
    "    # best so far?\n",
    "    if cos_result > max_cosine:\n",
    "        max_cosine = cos_result\n",
    "        similar_row = row\n",
    "print(\"Most similar document was row %d: cosine similarity = %.3f\" % ( similar_row, max_cosine ) )\n",
    "\n",
    "print(news_labels[similar_row])\n",
    "print(news_content[similar_row][0:300])"
   ]
  },
  {
   "cell_type": "markdown",
   "metadata": {},
   "source": [
    "** Here the normal vectorizer model and n-gram vectorizer model returns the same index document as similar but with different cosine values, whereas, the other two vectorizer model finds different document as similar.However, the last two vectorizers return the match with same news-category as that of first document. This is because, each vectorizer model here is having different or no parameters for processing, and in last two vectorizer we do some pre-processing on the text which helps in identifing similar category document. You can decide what all pre-processing is required as per target requirements.**"
   ]
  },
  {
   "cell_type": "markdown",
   "metadata": {},
   "source": [
    "## <font color=#340B87>Task 3 and 4 : Evaluation Experiments and Classification algorithms</font>\n",
    "** I am considering the outputs from two different Vectorizers used to create document-term matrix. These outputs will be used for predicting the documents using different evaluation techniques of Classification models.**\n",
    "* **TfidfVectorizer() s X_tfidf**\n",
    "* **CountVectorizer() as X_lemma ( Vectorizer with Pre-Processing)**\n",
    "\n",
    "\n",
    "** I am performing the evaluation experiments on the news_contents document using two types of evaluating techniques.**\n",
    "   * **One-way HoldOut Strategy (Train and Test Split) **\n",
    "   * ** K-Fold Cross Validation  **\n",
    "   "
   ]
  },
  {
   "cell_type": "markdown",
   "metadata": {},
   "source": [
    "### Using data from X_tfidf Vectorizer model"
   ]
  },
  {
   "cell_type": "markdown",
   "metadata": {},
   "source": [
    "### Evaluating using Simple Train/Test Split\n",
    "\n",
    "- Performing 70-30 split as Train-Test on raw data\n",
    "- The toarray() function is used to deal with sparsity which might get produced during the use of Vectorizers. And then this data is used for Training and Testing."
   ]
  },
  {
   "cell_type": "code",
   "execution_count": 17,
   "metadata": {
    "collapsed": true
   },
   "outputs": [],
   "source": [
    "# As the document-matrix generated is sparse, I am taking calling toarray() function, so that the sparcity does not affect the accuracy.\n",
    "X = X_tfidf.toarray()\n",
    "Y = np.array(news_labels) # labels are taken as simple np-arrays\n",
    "\n",
    "# Split the raw data as 70-30 Train-Test \n",
    "X_train, X_test, Y_train, Y_test = train_test_split(X, Y, random_state=0, train_size=0.7, test_size=0.3)"
   ]
  },
  {
   "cell_type": "markdown",
   "metadata": {},
   "source": [
    "### Decision Tree Classifier"
   ]
  },
  {
   "cell_type": "code",
   "execution_count": 18,
   "metadata": {
    "scrolled": true
   },
   "outputs": [
    {
     "data": {
      "text/plain": [
       "DecisionTreeClassifier(class_weight=None, criterion='gini', max_depth=None,\n",
       "            max_features=None, max_leaf_nodes=None,\n",
       "            min_impurity_decrease=0.0, min_impurity_split=None,\n",
       "            min_samples_leaf=1, min_samples_split=2,\n",
       "            min_weight_fraction_leaf=0.0, presort=False, random_state=None,\n",
       "            splitter='best')"
      ]
     },
     "execution_count": 18,
     "metadata": {},
     "output_type": "execute_result"
    }
   ],
   "source": [
    "# Using Decision Tree Classifier and calling fit function\n",
    "decisionTree = tree.DecisionTreeClassifier()\n",
    "decisionTree.fit(X_train, Y_train)"
   ]
  },
  {
   "cell_type": "code",
   "execution_count": 19,
   "metadata": {
    "scrolled": true
   },
   "outputs": [
    {
     "name": "stdout",
     "output_type": "stream",
     "text": [
      "Accuracy Score: 0.8676122931442081\n",
      "             precision    recall  f1-score   support\n",
      "\n",
      "   business       0.81      0.84      0.83       138\n",
      "      sport       0.90      0.91      0.90       170\n",
      " technology       0.89      0.84      0.87       115\n",
      "\n",
      "avg / total       0.87      0.87      0.87       423\n",
      "\n",
      "Confusion Matrix: \n"
     ]
    },
    {
     "data": {
      "text/html": [
       "<div>\n",
       "<style>\n",
       "    .dataframe thead tr:only-child th {\n",
       "        text-align: right;\n",
       "    }\n",
       "\n",
       "    .dataframe thead th {\n",
       "        text-align: left;\n",
       "    }\n",
       "\n",
       "    .dataframe tbody tr th {\n",
       "        vertical-align: top;\n",
       "    }\n",
       "</style>\n",
       "<table border=\"1\" class=\"dataframe\">\n",
       "  <thead>\n",
       "    <tr style=\"text-align: right;\">\n",
       "      <th>Predicted</th>\n",
       "      <th>business</th>\n",
       "      <th>sport</th>\n",
       "      <th>technology</th>\n",
       "      <th>All</th>\n",
       "    </tr>\n",
       "    <tr>\n",
       "      <th>True</th>\n",
       "      <th></th>\n",
       "      <th></th>\n",
       "      <th></th>\n",
       "      <th></th>\n",
       "    </tr>\n",
       "  </thead>\n",
       "  <tbody>\n",
       "    <tr>\n",
       "      <th>business</th>\n",
       "      <td>116</td>\n",
       "      <td>10</td>\n",
       "      <td>12</td>\n",
       "      <td>138</td>\n",
       "    </tr>\n",
       "    <tr>\n",
       "      <th>sport</th>\n",
       "      <td>16</td>\n",
       "      <td>154</td>\n",
       "      <td>0</td>\n",
       "      <td>170</td>\n",
       "    </tr>\n",
       "    <tr>\n",
       "      <th>technology</th>\n",
       "      <td>11</td>\n",
       "      <td>7</td>\n",
       "      <td>97</td>\n",
       "      <td>115</td>\n",
       "    </tr>\n",
       "    <tr>\n",
       "      <th>All</th>\n",
       "      <td>143</td>\n",
       "      <td>171</td>\n",
       "      <td>109</td>\n",
       "      <td>423</td>\n",
       "    </tr>\n",
       "  </tbody>\n",
       "</table>\n",
       "</div>"
      ],
      "text/plain": [
       "Predicted   business  sport  technology  All\n",
       "True                                        \n",
       "business         116     10          12  138\n",
       "sport             16    154           0  170\n",
       "technology        11      7          97  115\n",
       "All              143    171         109  423"
      ]
     },
     "execution_count": 19,
     "metadata": {},
     "output_type": "execute_result"
    }
   ],
   "source": [
    "# Make a set of predictions for the training data\n",
    "Y_predict = decisionTree.predict(X_test)\n",
    "\n",
    "# Print performance details\n",
    "accuracy = metrics.accuracy_score(Y_test, Y_predict)\n",
    "print(\"Accuracy Score: \" + str(accuracy))\n",
    "print(metrics.classification_report(Y_test, Y_predict))\n",
    "\n",
    "# Print Confusion Matrix\n",
    "print(\"Confusion Matrix: \")\n",
    "pd.crosstab(np.array(Y_test), Y_predict, rownames=['True'], colnames=['Predicted'], margins=True)"
   ]
  },
  {
   "cell_type": "markdown",
   "metadata": {},
   "source": [
    "### Evaluating using 10-fold Cross-Validation"
   ]
  },
  {
   "cell_type": "code",
   "execution_count": 20,
   "metadata": {},
   "outputs": [
    {
     "name": "stdout",
     "output_type": "stream",
     "text": [
      "Decision Tree: Mean cross-validation accuracy = 0.89\n"
     ]
    }
   ],
   "source": [
    "# call the cross_val_scores function\n",
    "acc_scores_dt = cross_val_score(decisionTree, X, Y, cv=10, scoring=\"accuracy\")\n",
    "mean_scores_dt=acc_scores_dt.mean()\n",
    "print(\"Decision Tree: Mean cross-validation accuracy = %.2f\" % mean_scores_dt )"
   ]
  },
  {
   "cell_type": "markdown",
   "metadata": {},
   "source": [
    "### Naive Bayes Classifier"
   ]
  },
  {
   "cell_type": "code",
   "execution_count": 21,
   "metadata": {},
   "outputs": [
    {
     "data": {
      "text/plain": [
       "MultinomialNB(alpha=1.0, class_prior=None, fit_prior=True)"
      ]
     },
     "execution_count": 21,
     "metadata": {},
     "output_type": "execute_result"
    }
   ],
   "source": [
    "# Using Naive Bayes Classifier and calling fit function\n",
    "n_bayes = naive_bayes.MultinomialNB()\n",
    "n_bayes.fit(X_train, Y_train)"
   ]
  },
  {
   "cell_type": "code",
   "execution_count": 22,
   "metadata": {},
   "outputs": [
    {
     "name": "stdout",
     "output_type": "stream",
     "text": [
      "Accuracy Score: 0.9787234042553191\n",
      "             precision    recall  f1-score   support\n",
      "\n",
      "   business       0.97      0.98      0.97       138\n",
      "      sport       0.99      0.98      0.99       170\n",
      " technology       0.97      0.97      0.97       115\n",
      "\n",
      "avg / total       0.98      0.98      0.98       423\n",
      "\n",
      "Confusion Matrix: \n"
     ]
    },
    {
     "data": {
      "text/html": [
       "<div>\n",
       "<style>\n",
       "    .dataframe thead tr:only-child th {\n",
       "        text-align: right;\n",
       "    }\n",
       "\n",
       "    .dataframe thead th {\n",
       "        text-align: left;\n",
       "    }\n",
       "\n",
       "    .dataframe tbody tr th {\n",
       "        vertical-align: top;\n",
       "    }\n",
       "</style>\n",
       "<table border=\"1\" class=\"dataframe\">\n",
       "  <thead>\n",
       "    <tr style=\"text-align: right;\">\n",
       "      <th>Predicted</th>\n",
       "      <th>business</th>\n",
       "      <th>sport</th>\n",
       "      <th>technology</th>\n",
       "      <th>All</th>\n",
       "    </tr>\n",
       "    <tr>\n",
       "      <th>True</th>\n",
       "      <th></th>\n",
       "      <th></th>\n",
       "      <th></th>\n",
       "      <th></th>\n",
       "    </tr>\n",
       "  </thead>\n",
       "  <tbody>\n",
       "    <tr>\n",
       "      <th>business</th>\n",
       "      <td>135</td>\n",
       "      <td>0</td>\n",
       "      <td>3</td>\n",
       "      <td>138</td>\n",
       "    </tr>\n",
       "    <tr>\n",
       "      <th>sport</th>\n",
       "      <td>3</td>\n",
       "      <td>167</td>\n",
       "      <td>0</td>\n",
       "      <td>170</td>\n",
       "    </tr>\n",
       "    <tr>\n",
       "      <th>technology</th>\n",
       "      <td>1</td>\n",
       "      <td>2</td>\n",
       "      <td>112</td>\n",
       "      <td>115</td>\n",
       "    </tr>\n",
       "    <tr>\n",
       "      <th>All</th>\n",
       "      <td>139</td>\n",
       "      <td>169</td>\n",
       "      <td>115</td>\n",
       "      <td>423</td>\n",
       "    </tr>\n",
       "  </tbody>\n",
       "</table>\n",
       "</div>"
      ],
      "text/plain": [
       "Predicted   business  sport  technology  All\n",
       "True                                        \n",
       "business         135      0           3  138\n",
       "sport              3    167           0  170\n",
       "technology         1      2         112  115\n",
       "All              139    169         115  423"
      ]
     },
     "execution_count": 22,
     "metadata": {},
     "output_type": "execute_result"
    }
   ],
   "source": [
    "# Make a set of predictions for the training data\n",
    "Y_predict = n_bayes.predict(X_test)\n",
    "\n",
    "# Print performance details\n",
    "accuracy = metrics.accuracy_score(Y_test, Y_predict)\n",
    "print(\"Accuracy Score: \" + str(accuracy))\n",
    "print(metrics.classification_report(Y_test, Y_predict))\n",
    "\n",
    "# Print Confusion Matrix\n",
    "print(\"Confusion Matrix: \")\n",
    "pd.crosstab(np.array(Y_test), Y_predict, rownames=['True'], colnames=['Predicted'], margins=True)"
   ]
  },
  {
   "cell_type": "code",
   "execution_count": 23,
   "metadata": {
    "scrolled": true
   },
   "outputs": [
    {
     "name": "stdout",
     "output_type": "stream",
     "text": [
      "Naive Bayes: Mean cross-validation accuracy = 0.98\n"
     ]
    }
   ],
   "source": [
    "# call the cross_val_scores function\n",
    "acc_scores_nb = cross_val_score(n_bayes, X, Y, cv=10, scoring=\"accuracy\")\n",
    "mean_scores_nb=acc_scores_nb.mean()\n",
    "print(\"Naive Bayes: Mean cross-validation accuracy = %.2f\" % mean_scores_nb )"
   ]
  },
  {
   "cell_type": "markdown",
   "metadata": {},
   "source": [
    "### Plotting Graphs\n",
    "\n",
    "**I will be considering the mean accuracy scores generated by cross_val_scores() of each classifier model for plotting**\n",
    "\n",
    "**<font color=red>The evaluation done by One-way holdout i.e. Train-Test split works on limited amount of data and hence we can get different accuracy for each time we run the code. However, k-fold cross validation is performed on whole data and it avoids random selection.</font> **"
   ]
  },
  {
   "cell_type": "code",
   "execution_count": 24,
   "metadata": {},
   "outputs": [
    {
     "data": {
      "image/png": "[encoded data removed]",
      "text/plain": [
       "<matplotlib.figure.Figure at 0x1f1bcfa2710>"
      ]
     },
     "metadata": {},
     "output_type": "display_data"
    }
   ],
   "source": [
    "# Set the bar labels\n",
    "bar_labels = ['Decision Tree', 'Naive Bayes']\n",
    "\n",
    "# Create the x position of the bars and give bar graph parameters\n",
    "N=2\n",
    "x_pos = np.arange(N)\n",
    "\n",
    "# Create the plot bars\n",
    "accuracy_scores=(mean_scores_dt,mean_scores_nb)\n",
    "\n",
    "#We can plot other performance factors like F1-measures along with Accuracy, therefore we can use subplots.\n",
    "fig, ax =plt.subplots(figsize=(5,5))\n",
    "\n",
    "# Plot a bar graph. \n",
    "plt.bar([p for p in x_pos],# using the data from the mean_values\n",
    "        accuracy_scores, \n",
    "        color='orange'\n",
    "        )\n",
    "\n",
    "# Set the chart's title\n",
    "ax.set_title('Classifier Models Comparison Graph')\n",
    "\n",
    "# set axes labels and title\n",
    "ax.set_ylabel('Accuracy %')\n",
    "ax.set_xticks([p for p in x_pos])\n",
    "ax.set_xticklabels(bar_labels)\n",
    "plt.ylim(0.8,1)\n",
    "plt.legend(['Mean Accuracy Scores'])\n",
    "plt.show()"
   ]
  },
  {
   "cell_type": "markdown",
   "metadata": {},
   "source": [
    "### Using data from X_lemma Vectorizer model\n",
    "\n",
    "- Performing the same steps as done for X_tfidf"
   ]
  },
  {
   "cell_type": "markdown",
   "metadata": {},
   "source": [
    "### Evaluating using Simple Train/Test Split"
   ]
  },
  {
   "cell_type": "code",
   "execution_count": 25,
   "metadata": {
    "collapsed": true
   },
   "outputs": [],
   "source": [
    "# putting data from Vectorizer with pre-processing i.e X_lemma\n",
    "# As the document-matrix generated is sparse, I am taking calling toarray() function, so that the sparcity does not affect the accuracy.\n",
    "X_lem_vec = X_lemma.toarray()\n",
    "Y_lem_vec = np.array(news_labels) # labels are taken as simple np-array\n",
    "\n",
    "X_train, X_test, Y_train, Y_test = train_test_split(X_lem_vec, Y_lem_vec, random_state=0, train_size=0.7, test_size=0.3)"
   ]
  },
  {
   "cell_type": "markdown",
   "metadata": {},
   "source": [
    "### Decision Tree Classifier Model"
   ]
  },
  {
   "cell_type": "code",
   "execution_count": 26,
   "metadata": {
    "scrolled": true
   },
   "outputs": [
    {
     "data": {
      "text/plain": [
       "DecisionTreeClassifier(class_weight=None, criterion='gini', max_depth=None,\n",
       "            max_features=None, max_leaf_nodes=None,\n",
       "            min_impurity_decrease=0.0, min_impurity_split=None,\n",
       "            min_samples_leaf=1, min_samples_split=2,\n",
       "            min_weight_fraction_leaf=0.0, presort=False, random_state=None,\n",
       "            splitter='best')"
      ]
     },
     "execution_count": 26,
     "metadata": {},
     "output_type": "execute_result"
    }
   ],
   "source": [
    "decisionTree = tree.DecisionTreeClassifier()\n",
    "decisionTree.fit(X_train, Y_train)"
   ]
  },
  {
   "cell_type": "code",
   "execution_count": 27,
   "metadata": {},
   "outputs": [
    {
     "name": "stdout",
     "output_type": "stream",
     "text": [
      "Accuracy Score: 0.8723404255319149\n",
      "             precision    recall  f1-score   support\n",
      "\n",
      "   business       0.80      0.86      0.83       138\n",
      "      sport       0.94      0.89      0.91       170\n",
      " technology       0.87      0.86      0.86       115\n",
      "\n",
      "avg / total       0.88      0.87      0.87       423\n",
      "\n",
      "Confusion Matrix: \n"
     ]
    },
    {
     "data": {
      "text/html": [
       "<div>\n",
       "<style>\n",
       "    .dataframe thead tr:only-child th {\n",
       "        text-align: right;\n",
       "    }\n",
       "\n",
       "    .dataframe thead th {\n",
       "        text-align: left;\n",
       "    }\n",
       "\n",
       "    .dataframe tbody tr th {\n",
       "        vertical-align: top;\n",
       "    }\n",
       "</style>\n",
       "<table border=\"1\" class=\"dataframe\">\n",
       "  <thead>\n",
       "    <tr style=\"text-align: right;\">\n",
       "      <th>Predicted</th>\n",
       "      <th>business</th>\n",
       "      <th>sport</th>\n",
       "      <th>technology</th>\n",
       "      <th>All</th>\n",
       "    </tr>\n",
       "    <tr>\n",
       "      <th>True</th>\n",
       "      <th></th>\n",
       "      <th></th>\n",
       "      <th></th>\n",
       "      <th></th>\n",
       "    </tr>\n",
       "  </thead>\n",
       "  <tbody>\n",
       "    <tr>\n",
       "      <th>business</th>\n",
       "      <td>119</td>\n",
       "      <td>6</td>\n",
       "      <td>13</td>\n",
       "      <td>138</td>\n",
       "    </tr>\n",
       "    <tr>\n",
       "      <th>sport</th>\n",
       "      <td>17</td>\n",
       "      <td>151</td>\n",
       "      <td>2</td>\n",
       "      <td>170</td>\n",
       "    </tr>\n",
       "    <tr>\n",
       "      <th>technology</th>\n",
       "      <td>12</td>\n",
       "      <td>4</td>\n",
       "      <td>99</td>\n",
       "      <td>115</td>\n",
       "    </tr>\n",
       "    <tr>\n",
       "      <th>All</th>\n",
       "      <td>148</td>\n",
       "      <td>161</td>\n",
       "      <td>114</td>\n",
       "      <td>423</td>\n",
       "    </tr>\n",
       "  </tbody>\n",
       "</table>\n",
       "</div>"
      ],
      "text/plain": [
       "Predicted   business  sport  technology  All\n",
       "True                                        \n",
       "business         119      6          13  138\n",
       "sport             17    151           2  170\n",
       "technology        12      4          99  115\n",
       "All              148    161         114  423"
      ]
     },
     "execution_count": 27,
     "metadata": {},
     "output_type": "execute_result"
    }
   ],
   "source": [
    "# Make a set of predictions for the training data\n",
    "Y_predict = decisionTree.predict(X_test)\n",
    "\n",
    "# Print performance details\n",
    "accuracy = metrics.accuracy_score(Y_test, Y_predict)\n",
    "print(\"Accuracy Score: \" + str(accuracy))\n",
    "print(metrics.classification_report(Y_test, Y_predict))\n",
    "\n",
    "# Print Confusion Matrix\n",
    "print(\"Confusion Matrix: \")\n",
    "pd.crosstab(np.array(Y_test), Y_predict, rownames=['True'], colnames=['Predicted'], margins=True)"
   ]
  },
  {
   "cell_type": "markdown",
   "metadata": {},
   "source": [
    "### Evaluating using Cross-Validation"
   ]
  },
  {
   "cell_type": "code",
   "execution_count": 28,
   "metadata": {},
   "outputs": [
    {
     "name": "stdout",
     "output_type": "stream",
     "text": [
      "Decision Tree: Mean cross-validation accuracy = 0.90\n"
     ]
    }
   ],
   "source": [
    "acc_scores_dt = cross_val_score(decisionTree, X_lem_vec, Y_lem_vec, cv=10, scoring=\"accuracy\")\n",
    "mean_scores_dt=acc_scores_dt.mean()\n",
    "print(\"Decision Tree: Mean cross-validation accuracy = %.2f\" % mean_scores_dt )"
   ]
  },
  {
   "cell_type": "markdown",
   "metadata": {},
   "source": [
    "### Naive Bayes Classifier Model"
   ]
  },
  {
   "cell_type": "code",
   "execution_count": 29,
   "metadata": {},
   "outputs": [
    {
     "data": {
      "text/plain": [
       "MultinomialNB(alpha=1.0, class_prior=None, fit_prior=True)"
      ]
     },
     "execution_count": 29,
     "metadata": {},
     "output_type": "execute_result"
    }
   ],
   "source": [
    "n_bayes = naive_bayes.MultinomialNB()\n",
    "n_bayes.fit(X_train, Y_train)"
   ]
  },
  {
   "cell_type": "code",
   "execution_count": 30,
   "metadata": {},
   "outputs": [
    {
     "name": "stdout",
     "output_type": "stream",
     "text": [
      "Accuracy Score: 0.9787234042553191\n",
      "             precision    recall  f1-score   support\n",
      "\n",
      "   business       0.96      0.98      0.97       138\n",
      "      sport       0.99      0.98      0.99       170\n",
      " technology       0.97      0.98      0.98       115\n",
      "\n",
      "avg / total       0.98      0.98      0.98       423\n",
      "\n",
      "Confusion Matrix: \n"
     ]
    },
    {
     "data": {
      "text/html": [
       "<div>\n",
       "<style>\n",
       "    .dataframe thead tr:only-child th {\n",
       "        text-align: right;\n",
       "    }\n",
       "\n",
       "    .dataframe thead th {\n",
       "        text-align: left;\n",
       "    }\n",
       "\n",
       "    .dataframe tbody tr th {\n",
       "        vertical-align: top;\n",
       "    }\n",
       "</style>\n",
       "<table border=\"1\" class=\"dataframe\">\n",
       "  <thead>\n",
       "    <tr style=\"text-align: right;\">\n",
       "      <th>Predicted</th>\n",
       "      <th>business</th>\n",
       "      <th>sport</th>\n",
       "      <th>technology</th>\n",
       "      <th>All</th>\n",
       "    </tr>\n",
       "    <tr>\n",
       "      <th>True</th>\n",
       "      <th></th>\n",
       "      <th></th>\n",
       "      <th></th>\n",
       "      <th></th>\n",
       "    </tr>\n",
       "  </thead>\n",
       "  <tbody>\n",
       "    <tr>\n",
       "      <th>business</th>\n",
       "      <td>135</td>\n",
       "      <td>0</td>\n",
       "      <td>3</td>\n",
       "      <td>138</td>\n",
       "    </tr>\n",
       "    <tr>\n",
       "      <th>sport</th>\n",
       "      <td>4</td>\n",
       "      <td>166</td>\n",
       "      <td>0</td>\n",
       "      <td>170</td>\n",
       "    </tr>\n",
       "    <tr>\n",
       "      <th>technology</th>\n",
       "      <td>1</td>\n",
       "      <td>1</td>\n",
       "      <td>113</td>\n",
       "      <td>115</td>\n",
       "    </tr>\n",
       "    <tr>\n",
       "      <th>All</th>\n",
       "      <td>140</td>\n",
       "      <td>167</td>\n",
       "      <td>116</td>\n",
       "      <td>423</td>\n",
       "    </tr>\n",
       "  </tbody>\n",
       "</table>\n",
       "</div>"
      ],
      "text/plain": [
       "Predicted   business  sport  technology  All\n",
       "True                                        \n",
       "business         135      0           3  138\n",
       "sport              4    166           0  170\n",
       "technology         1      1         113  115\n",
       "All              140    167         116  423"
      ]
     },
     "execution_count": 30,
     "metadata": {},
     "output_type": "execute_result"
    }
   ],
   "source": [
    "# Make a set of predictions for the training data\n",
    "Y_predict = n_bayes.predict(X_test)\n",
    "\n",
    "# Print performance details\n",
    "accuracy = metrics.accuracy_score(Y_test, Y_predict)\n",
    "print(\"Accuracy Score: \" + str(accuracy))\n",
    "print(metrics.classification_report(Y_test, Y_predict))\n",
    "\n",
    "# Print Confusion Matrix\n",
    "print(\"Confusion Matrix: \")\n",
    "pd.crosstab(np.array(Y_test), Y_predict, rownames=['True'], colnames=['Predicted'], margins=True)"
   ]
  },
  {
   "cell_type": "markdown",
   "metadata": {},
   "source": [
    "### Evaluating using Cross-Validation"
   ]
  },
  {
   "cell_type": "code",
   "execution_count": 31,
   "metadata": {},
   "outputs": [
    {
     "name": "stdout",
     "output_type": "stream",
     "text": [
      "Naive Bayes: Mean cross-validation accuracy = 0.98\n"
     ]
    }
   ],
   "source": [
    "acc_scores_nb = cross_val_score(n_bayes, X_lem_vec, Y_lem_vec, cv=10, scoring=\"accuracy\")\n",
    "mean_scores_nb=acc_scores_nb.mean()\n",
    "print(\"Naive Bayes: Mean cross-validation accuracy = %.2f\" % mean_scores_nb )"
   ]
  },
  {
   "cell_type": "markdown",
   "metadata": {},
   "source": [
    "### Plotting Graphs\n",
    "\n",
    "**I will be considering the mean accuracy scores generated by cross_val_scores() of each classifier model.**\n",
    "\n",
    "** <font color=red>The evaluation done by One-way holdout i.e. Train-Test split works on limited amount of data and hence we can get different accuracy for each time we run the code. However, k-fold cross validation is performed on whole data and it avoids random selection. Therfore, I am using the K-Fold Cross validation for analysis purpose.</font> **"
   ]
  },
  {
   "cell_type": "code",
   "execution_count": 32,
   "metadata": {},
   "outputs": [
    {
     "data": {
      "image/png": "[encoded data removed]",
      "text/plain": [
       "<matplotlib.figure.Figure at 0x1f1bcd9f358>"
      ]
     },
     "metadata": {},
     "output_type": "display_data"
    }
   ],
   "source": [
    "# Set the bar labels\n",
    "bar_labels = ['Decision Tree', 'Naive Bayes']\n",
    "\n",
    "# Create the x position of the bars and give bar graph parameters\n",
    "N=2\n",
    "x_pos = np.arange(N)\n",
    "\n",
    "# Create the plot bars\n",
    "accuracy_scores=(mean_scores_dt,mean_scores_nb)\n",
    "\n",
    "#We can plot other performance factors like F1-measures along with Accuracy, therefore we can use subplots.\n",
    "fig, ax =plt.subplots(figsize=(5,5))\n",
    "\n",
    "# Plot a bar graph. \n",
    "plt.bar([p for p in x_pos],# using the data from the mean_values\n",
    "        accuracy_scores, \n",
    "        color='orange'\n",
    "        )\n",
    "\n",
    "# Set the chart's title\n",
    "ax.set_title('Classifier Models Comparison Graph')\n",
    "\n",
    "# set axes labels and title\n",
    "ax.set_ylabel('Accuracy %')\n",
    "ax.set_xticks([p for p in x_pos])\n",
    "ax.set_xticklabels(bar_labels)\n",
    "plt.ylim(0.8,1)\n",
    "plt.legend(['Mean Accuracy Scores'])\n",
    "plt.show()"
   ]
  },
  {
   "cell_type": "markdown",
   "metadata": {
    "collapsed": true
   },
   "source": [
    "## Observation and Analysis"
   ]
  },
  {
   "cell_type": "markdown",
   "metadata": {},
   "source": [
    "<font color=green> <b> Observation:<br>\n",
    "1. From the two graphs generated above. It can be observed that Machine Learning Classifiers trained on Document-Term Matrix generated by Pre-Processed CountVectorizer Model give good accuracy scores than Tf-Idf Vectorizer model. The accuracy for Decision Tree and Naive Bayes comes as 89% and 98% respectively for TfidfVectorizer model. Whereas, the accuracy for Decision Tree and Naive Bayes comes as 90% and 98% respectively for CountVectorizer model.  <br>\n",
    "2. It can be observed that Naive Bayes Classifier performs well than Decision Tree Classifier in both the approaches i.e. Vectorizer models.Decision Tress has 89% and 90% accuracy for each vectorizer respectively, and Naive Bayes gives 98% accuracy for each Vectorizer model.</b></font> <br>\n",
    "\n",
    "<font color=green> <b> Analysis:<br>\n",
    "1. The CountVectorizer() as the name gives counts the frequencies of the words, whereas for TfidfVectorizer(), the values increases in proportion with the count, but is offset by the frequency of that word in all documents. Here, in our news-article content, there might be some words whose word frequency gives better result than the term weighting. And therefore, the accuracy for both the classifier is more/same in CountVectorizer model than TfidfVectorizer model.<br>\n",
    "2. The Decision Tree classifiers forms the nested tree structure as per the features and assigns respective class-labels at the leaf nodes. Whereas, Naive Bayes gives the probability of that feature occurence. Naive Bayes assumes conditional independencies between the features. As a result, in our news-articles context there might not be much dependencies between the words and hence,Multinomial Naive Bayes is specially used for text classification because it uses discrete features(here terms) and hence it performs well and give high accuracy scores for both Vectorizer models than Decision Tree."
   ]
  }
 ],
 "metadata": {
  "kernelspec": {
   "display_name": "Python 3",
   "language": "python",
   "name": "python3"
  },
  "language_info": {
   "codemirror_mode": {
    "name": "ipython",
    "version": 3
   },
   "file_extension": ".py",
   "mimetype": "text/x-python",
   "name": "python",
   "nbconvert_exporter": "python",
   "pygments_lexer": "ipython3",
   "version": "3.6.1"
  }
 },
 "nbformat": 4,
 "nbformat_minor": 2
}
